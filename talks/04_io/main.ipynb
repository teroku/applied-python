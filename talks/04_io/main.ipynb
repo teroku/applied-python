{
 "cells": [
  {
   "cell_type": "markdown",
   "metadata": {},
   "source": [
    "# Менеджеры контекста"
   ]
  },
  {
   "cell_type": "markdown",
   "metadata": {},
   "source": [
    "## Что это такое"
   ]
  },
  {
   "cell_type": "code",
   "execution_count": null,
   "metadata": {},
   "outputs": [],
   "source": [
    "import datetime\n",
    "with open('tmp.txt', 'w') as f:\n",
    "    f.write('Привет всем. Текущее время ' + str(datetime.datetime.now()))\n",
    "    \n",
    "# Эквивалентные конструкции\n",
    "f = open('tmp.txt', 'r')\n",
    "print(f.read())\n",
    "f.close()\n",
    "print(f.closed)"
   ]
  },
  {
   "cell_type": "code",
   "execution_count": null,
   "metadata": {},
   "outputs": [],
   "source": [
    "# Но не совсем\n",
    "f = open('tmp.txt', 'r')\n",
    "print(f.read())\n",
    "raise(ValueError)\n",
    "f.close()"
   ]
  },
  {
   "cell_type": "code",
   "execution_count": null,
   "metadata": {},
   "outputs": [],
   "source": [
    "print(f.closed)"
   ]
  },
  {
   "cell_type": "code",
   "execution_count": null,
   "metadata": {},
   "outputs": [],
   "source": [
    "f.close()"
   ]
  },
  {
   "cell_type": "markdown",
   "metadata": {},
   "source": [
    "## Как реализовать свой"
   ]
  },
  {
   "cell_type": "code",
   "execution_count": null,
   "metadata": {},
   "outputs": [],
   "source": [
    "class File(object):\n",
    "    def __init__(self, file_name, method):\n",
    "        self.file_obj = open(file_name, method)\n",
    "    def __enter__(self):\n",
    "        return self.file_obj\n",
    "    def __exit__(self, type, value, traceback):\n",
    "        # Здесь может быть сложная логика обработки исключения\n",
    "        self.file_obj.close()"
   ]
  },
  {
   "cell_type": "code",
   "execution_count": null,
   "metadata": {},
   "outputs": [],
   "source": [
    "with File('tmp.txt', 'r') as f:\n",
    "    print(f.read())\n",
    "    raise(ValueError)"
   ]
  },
  {
   "cell_type": "code",
   "execution_count": null,
   "metadata": {},
   "outputs": [],
   "source": [
    "print(f.closed)"
   ]
  },
  {
   "cell_type": "markdown",
   "metadata": {},
   "source": [
    "### Это не только файлы и соединения"
   ]
  },
  {
   "cell_type": "markdown",
   "metadata": {},
   "source": [
    "Транзакция\n",
    "\n",
    "```python\n",
    "from django.db import transaction\n",
    "\n",
    "def viewfunc(request):\n",
    "    # This code executes in autocommit mode (Django's default).\n",
    "    do_stuff()\n",
    "\n",
    "    with transaction.atomic():\n",
    "        # This code executes inside a transaction.\n",
    "        do_more_stuff()\n",
    "```"
   ]
  },
  {
   "cell_type": "markdown",
   "metadata": {},
   "source": [
    "Блокировка\n",
    "\n",
    "```python\n",
    "from filelock import Timeout, FileLock\n",
    "\n",
    "lock = FileLock(\"high_ground.txt.lock\")\n",
    "with lock:\n",
    "    open(\"high_ground.txt\", \"a\").write(\"You were the chosen one.\")\n",
    "```"
   ]
  },
  {
   "cell_type": "markdown",
   "metadata": {},
   "source": [
    "## contextlib"
   ]
  },
  {
   "cell_type": "code",
   "execution_count": null,
   "metadata": {},
   "outputs": [],
   "source": [
    "from contextlib import contextmanager\n",
    "\n",
    "@contextmanager\n",
    "def closing(thing):\n",
    "    try:\n",
    "        yield thing\n",
    "    finally:\n",
    "        thing.close()"
   ]
  },
  {
   "cell_type": "code",
   "execution_count": null,
   "metadata": {},
   "outputs": [],
   "source": [
    "with closing(open('tmp.txt', 'r')) as f:\n",
    "    print(f.read())\n",
    "print(f.closed)"
   ]
  },
  {
   "cell_type": "code",
   "execution_count": null,
   "metadata": {},
   "outputs": [],
   "source": [
    "from contextlib import closing\n",
    "from urllib.request import urlopen\n",
    "\n",
    "with closing(urlopen('http://ip.jsontest.com/')) as page:\n",
    "    for line in page:\n",
    "        print(line)"
   ]
  },
  {
   "cell_type": "code",
   "execution_count": null,
   "metadata": {},
   "outputs": [],
   "source": [
    "import os\n",
    "from contextlib import suppress\n",
    "\n",
    "with suppress(FileNotFoundError):\n",
    "    os.remove('somefile.tmp')"
   ]
  },
  {
   "cell_type": "markdown",
   "metadata": {},
   "source": [
    "# Работа с файлами"
   ]
  },
  {
   "cell_type": "markdown",
   "metadata": {},
   "source": [
    "## Базовые операции"
   ]
  },
  {
   "cell_type": "code",
   "execution_count": null,
   "metadata": {},
   "outputs": [],
   "source": [
    "import datetime\n",
    "with open('tmp.txt', 'w') as f:\n",
    "    f.write('Привет всем. Текущее время ' + str(datetime.datetime.now()))\n",
    "    \n",
    "with open('tmp.txt', 'r') as f:\n",
    "    print(f.read())"
   ]
  },
  {
   "cell_type": "code",
   "execution_count": null,
   "metadata": {},
   "outputs": [],
   "source": [
    "# Дописываем в конец\n",
    "with open('tmp.txt', 'a') as f:\n",
    "    for _ in range(5):\n",
    "        f.write('\\nПривет всем. Текущее время ' + str(datetime.datetime.now()))\n",
    "        \n",
    "with open('tmp.txt', 'r') as f:\n",
    "    for line in f: # читаем построчно\n",
    "        print(line.strip())"
   ]
  },
  {
   "cell_type": "code",
   "execution_count": null,
   "metadata": {},
   "outputs": [],
   "source": [
    "# читаем целиком\n",
    "with open('tmp.txt', 'r') as f:\n",
    "    print(f.read())"
   ]
  },
  {
   "cell_type": "code",
   "execution_count": null,
   "metadata": {},
   "outputs": [],
   "source": [
    "with open('tmp.txt', 'r') as f:\n",
    "    f.seek(25) # Переходим на нужню позицию\n",
    "    print(f.read(30)) # Читаем нужное количество байт"
   ]
  },
  {
   "cell_type": "markdown",
   "metadata": {},
   "source": [
    "## Кодировки\n",
    "\n",
    "* https://ru.wikipedia.org/wiki/ASCII\n",
    "* https://ru.wikipedia.org/wiki/Windows-1251\n",
    "* https://ru.wikipedia.org/wiki/UTF-8\n",
    "* https://ru.wikipedia.org/wiki/UTF-16\n",
    "\n",
    "https://ru.wikipedia.org/wiki/Юникод - это не кодировка!\n"
   ]
  },
  {
   "cell_type": "code",
   "execution_count": null,
   "metadata": {},
   "outputs": [],
   "source": [
    "# Пишем в конкретной кодировке\n",
    "with open('tmp.txt', 'w', encoding='cp1251') as f:\n",
    "    f.write('Привет всем. Текущее время ' + str(datetime.datetime.now()))"
   ]
  },
  {
   "cell_type": "code",
   "execution_count": null,
   "metadata": {},
   "outputs": [],
   "source": [
    "with open('tmp.txt', 'r') as f:\n",
    "    print(f.read())"
   ]
  },
  {
   "cell_type": "code",
   "execution_count": null,
   "metadata": {},
   "outputs": [],
   "source": [
    "# Ошиблись в кодировке при чтении\n",
    "with open('tmp.txt', 'r', encoding='cp1252') as f:\n",
    "    print(f.read())"
   ]
  },
  {
   "cell_type": "code",
   "execution_count": null,
   "metadata": {},
   "outputs": [],
   "source": [
    "# Можем прочитать как byte\n",
    "with open('tmp.txt', 'rb') as f:\n",
    "    cont = f.read()\n",
    "print(cont)\n",
    "type(cont)"
   ]
  },
  {
   "cell_type": "code",
   "execution_count": null,
   "metadata": {},
   "outputs": [],
   "source": [
    "# И затем декодировать\n",
    "cont_str = cont.decode('cp1251')\n",
    "print(cont_str)\n",
    "type(cont_str)"
   ]
  },
  {
   "cell_type": "code",
   "execution_count": null,
   "metadata": {},
   "outputs": [],
   "source": [
    "# И закодировать в другую кодировку\n",
    "bytes(cont_str, 'utf8')"
   ]
  },
  {
   "cell_type": "code",
   "execution_count": null,
   "metadata": {},
   "outputs": [],
   "source": [
    "# Кодировка по-умолчанию - utf8\n",
    "bytes(cont_str, 'utf8').decode()"
   ]
  },
  {
   "cell_type": "markdown",
   "metadata": {},
   "source": [
    "## Материалы по теме\n",
    "\n",
    "Статья про кодировки на хабре: [Что нужно знать каждому разработчику о кодировках и наборах символов для работы с текстом](https://habrahabr.ru/post/158639/)\n",
    "\n",
    "И сразу про нормализацию строк: [«Й» вам не «и» краткое! О важности нормализации Unicode](https://habrahabr.ru/post/262679/)"
   ]
  },
  {
   "cell_type": "markdown",
   "metadata": {},
   "source": [
    "## Bytes"
   ]
  },
  {
   "cell_type": "code",
   "execution_count": null,
   "metadata": {},
   "outputs": [],
   "source": [
    "# могут интерпретироваться как строки\n",
    "b = bytes(cont_str, 'utf8')\n",
    "print(b[1:5])\n",
    "print(b.split())"
   ]
  },
  {
   "cell_type": "code",
   "execution_count": null,
   "metadata": {},
   "outputs": [],
   "source": [
    "# и как последовательности чисел\n",
    "print(b[5])\n",
    "print(list(b))"
   ]
  },
  {
   "cell_type": "code",
   "execution_count": null,
   "metadata": {},
   "outputs": [],
   "source": [
    "# иммутабельны как и строки\n",
    "b[4] = '6'"
   ]
  },
  {
   "cell_type": "code",
   "execution_count": null,
   "metadata": {},
   "outputs": [],
   "source": [
    "# но есть и мутабельная версия\n",
    "ba = bytearray(b)\n",
    "print(ba[:5])"
   ]
  },
  {
   "cell_type": "code",
   "execution_count": null,
   "metadata": {},
   "outputs": [],
   "source": [
    "# хоть в этом и мало смысла\n",
    "ba[5] += 1\n",
    "print(ba.decode())"
   ]
  },
  {
   "cell_type": "code",
   "execution_count": null,
   "metadata": {},
   "outputs": [],
   "source": [
    "# для чего-то низкоуровнего\n",
    "ba = bytearray(range(50))\n",
    "print(ba)\n",
    "print(list(ba))"
   ]
  },
  {
   "cell_type": "markdown",
   "metadata": {},
   "source": [
    "# Бинарные форматы"
   ]
  },
  {
   "cell_type": "code",
   "execution_count": null,
   "metadata": {},
   "outputs": [],
   "source": [
    "import struct\n",
    "\n",
    "bmp = open(\"VENUS.bmp\", 'rb')\n",
    "print('Type:', bmp.read(2).decode())\n",
    "print('Size: %s' % struct.unpack('I', bmp.read(4)))\n",
    "print('Reserved 1: %s' % struct.unpack('H', bmp.read(2)))\n",
    "print('Reserved 2: %s' % struct.unpack('H', bmp.read(2)))\n",
    "print('Offset: %s' % struct.unpack('I', bmp.read(4)))\n",
    "\n",
    "print('DIB Header Size: %s' % struct.unpack('I', bmp.read(4)))\n",
    "print('Width: %s' % struct.unpack('I', bmp.read(4)))\n",
    "print('Height: %s' % struct.unpack('I', bmp.read(4)))\n",
    "print('Colour Planes: %s' % struct.unpack('H', bmp.read(2)))\n",
    "print('Bits per Pixel: %s' % struct.unpack('H', bmp.read(2)))\n",
    "print('Compression Method: %s' % struct.unpack('I', bmp.read(4)))\n",
    "print('Raw Image Size: %s' % struct.unpack('I', bmp.read(4)))\n",
    "print('Horizontal Resolution: %s' % struct.unpack('I', bmp.read(4)))\n",
    "print('Vertical Resolution: %s' % struct.unpack('I', bmp.read(4)))\n",
    "print('Number of Colours: %s' % struct.unpack('I', bmp.read(4)))\n",
    "print('Important Colours: %s' % struct.unpack('I', bmp.read(4)))"
   ]
  },
  {
   "cell_type": "code",
   "execution_count": null,
   "metadata": {},
   "outputs": [],
   "source": [
    "import struct\n",
    "\n",
    "bmp = open(\"VENUS.bmp\", 'rb')\n",
    "print('Type:', bmp.read(2).decode())\n",
    "tpl = struct.unpack('IHHII', bmp.read(16))\n",
    "print(tpl)\n",
    "print('Size: {}; Reserved 1: {}; Reserved 2: {}; Offset {}'.format(*tpl))\n"
   ]
  },
  {
   "cell_type": "code",
   "execution_count": null,
   "metadata": {},
   "outputs": [],
   "source": [
    "import struct\n",
    "example = 'Hello world'\n",
    "ln = len(example)\n",
    "enc = struct.pack('I{}s'.format(ln), ln, example.encode())\n",
    "print(enc)"
   ]
  },
  {
   "cell_type": "code",
   "execution_count": null,
   "metadata": {},
   "outputs": [],
   "source": [
    "ln = struct.unpack_from('I', enc)[0]\n",
    "print(ln)\n",
    "enc = enc[struct.calcsize('I'):]\n",
    "example = struct.unpack_from('{}s'.format(ln), enc)[0]\n",
    "print(example)"
   ]
  },
  {
   "cell_type": "markdown",
   "metadata": {},
   "source": [
    "## Pickle"
   ]
  },
  {
   "cell_type": "code",
   "execution_count": null,
   "metadata": {},
   "outputs": [],
   "source": [
    "import pickle\n",
    "\n",
    "class A:\n",
    "    fld = 123\n",
    "    \n",
    "    def __init__(self, a, b):\n",
    "        self.a = a\n",
    "        self.b = b\n",
    "        \n",
    "    def __repr__(self):\n",
    "        return 'A({0.a},{0.b})'.format(self)\n",
    "        \n",
    "t1 = [1, {'a': (1, 2, 3), 'b': set([1,2,3,4,5,4,3,2,1])}, 3, A(4, 5)]\n",
    "s = pickle.dumps(t1)\n",
    "print(s)\n",
    "t2 = pickle.loads(s)\n",
    "print(t2)"
   ]
  },
  {
   "cell_type": "markdown",
   "metadata": {},
   "source": [
    "# Файловая система"
   ]
  },
  {
   "cell_type": "code",
   "execution_count": null,
   "metadata": {},
   "outputs": [],
   "source": [
    "import os # почитайте что там есть - очень полезно для скриптов\n",
    "os.path.exists('/tmp')"
   ]
  },
  {
   "cell_type": "code",
   "execution_count": null,
   "metadata": {},
   "outputs": [],
   "source": [
    "from glob import glob\n",
    "glob('../*/*.ipynb')"
   ]
  },
  {
   "cell_type": "code",
   "execution_count": null,
   "metadata": {},
   "outputs": [],
   "source": [
    "for t in os.walk('../'):\n",
    "    print(t)"
   ]
  },
  {
   "cell_type": "code",
   "execution_count": null,
   "metadata": {},
   "outputs": [],
   "source": [
    "for curr_dir, sub_dirs, files  in os.walk('../'):\n",
    "    for file in files:\n",
    "        if file.endswith('.ipynb'):\n",
    "            print(os.path.join(curr_dir, file))"
   ]
  },
  {
   "cell_type": "markdown",
   "metadata": {},
   "source": [
    "## Requests"
   ]
  },
  {
   "cell_type": "code",
   "execution_count": null,
   "metadata": {},
   "outputs": [],
   "source": [
    "# установим пакет\n",
    "# !pip install requests"
   ]
  },
  {
   "cell_type": "code",
   "execution_count": null,
   "metadata": {},
   "outputs": [],
   "source": [
    "import requests\n",
    "import json\n",
    "resp = requests.get('http://date.jsontest.com/')\n",
    "print(resp, resp.ok, resp.status_code)\n",
    "print(resp.content)\n",
    "print(json.loads(resp.content))"
   ]
  },
  {
   "cell_type": "code",
   "execution_count": null,
   "metadata": {},
   "outputs": [],
   "source": [
    "print(resp.json())"
   ]
  },
  {
   "cell_type": "markdown",
   "metadata": {},
   "source": [
    "# Многопоточность"
   ]
  },
  {
   "cell_type": "markdown",
   "metadata": {},
   "source": [
    "## Потоки. Потоки здорового человека"
   ]
  },
  {
   "cell_type": "code",
   "execution_count": null,
   "metadata": {},
   "outputs": [],
   "source": [
    "# просто пример отправки данных - так в жизни делать не надо)\n",
    "base_url = \"http://md5.jsontest.com/?text=\"\n",
    "import requests\n",
    "\n",
    "def slow_md5(data):\n",
    "    response = requests.get(base_url + data)\n",
    "    if response.ok:\n",
    "        rez = response.json()\n",
    "        return rez.get('md5')\n",
    "\n",
    "print(slow_md5('test1'))"
   ]
  },
  {
   "cell_type": "code",
   "execution_count": null,
   "metadata": {},
   "outputs": [],
   "source": [
    "test_strings = []\n",
    "for i in range(50):\n",
    "    test_strings.append(f'test_{i}')"
   ]
  },
  {
   "cell_type": "code",
   "execution_count": null,
   "metadata": {},
   "outputs": [],
   "source": [
    "%%time\n",
    "rez = {}\n",
    "for data in test_strings:\n",
    "    rez[data] = slow_md5(data)"
   ]
  },
  {
   "cell_type": "code",
   "execution_count": null,
   "metadata": {},
   "outputs": [],
   "source": [
    "%%time\n",
    "import threading\n",
    "threads_num = 4\n",
    "\n",
    "rez = {}\n",
    "def thread_run(idx):\n",
    "    while idx < len(test_strings):\n",
    "        data = test_strings[idx]\n",
    "        rez[data] = slow_md5(data)\n",
    "        idx += threads_num\n",
    "    print(f'Thread end: {idx}')\n",
    "\n",
    "threads = []\n",
    "for i in range(threads_num):\n",
    "    t = threading.Thread(target=thread_run, args=(i,))\n",
    "    t.start()\n",
    "    threads.append(t)\n",
    "\n",
    "for t in threads:\n",
    "    t.join()\n",
    "    "
   ]
  },
  {
   "cell_type": "code",
   "execution_count": null,
   "metadata": {},
   "outputs": [],
   "source": [
    "import sys\n",
    "sys.version"
   ]
  },
  {
   "cell_type": "markdown",
   "metadata": {},
   "source": [
    "## Потоки. Потоки курильщика"
   ]
  },
  {
   "cell_type": "code",
   "execution_count": null,
   "metadata": {},
   "outputs": [],
   "source": [
    "def slow_fib(n):\n",
    "    if n == 0:\n",
    "        return 0\n",
    "    if n < 3:\n",
    "        return 1\n",
    "    return slow_fib(n - 1) + slow_fib(n - 2)\n",
    "\n",
    "print(slow_fib(10))"
   ]
  },
  {
   "cell_type": "code",
   "execution_count": null,
   "metadata": {},
   "outputs": [],
   "source": [
    "test_ns = []\n",
    "for i in range(35):\n",
    "    test_ns.append(i)"
   ]
  },
  {
   "cell_type": "code",
   "execution_count": null,
   "metadata": {},
   "outputs": [],
   "source": [
    "%%time\n",
    "rez = {}\n",
    "for n in test_ns:\n",
    "    rez[n] = slow_fib(n)"
   ]
  },
  {
   "cell_type": "code",
   "execution_count": null,
   "metadata": {},
   "outputs": [],
   "source": [
    "%%time\n",
    "import threading\n",
    "threads_num = 4\n",
    "\n",
    "rez = {}\n",
    "# простое определение потока\n",
    "def thread_run(idx):\n",
    "    while idx < len(test_ns):\n",
    "        data = test_ns[idx]\n",
    "        rez[data] = slow_fib(data)\n",
    "        idx += threads_num\n",
    "    print(f'Thread end: {idx}')\n",
    "\n",
    "threads = []\n",
    "for i in range(threads_num):\n",
    "    t = threading.Thread(target=thread_run, args=(i,))\n",
    "    t.start()\n",
    "    threads.append(t)\n",
    "\n",
    "for t in threads:\n",
    "    t.join()\n",
    "    "
   ]
  },
  {
   "cell_type": "markdown",
   "metadata": {},
   "source": [
    "## GIL\n",
    "- https://wiki.python.org/moin/GlobalInterpreterLock\n",
    "- https://habrahabr.ru/post/84629/"
   ]
  },
  {
   "cell_type": "markdown",
   "metadata": {},
   "source": [
    "## Что делать\n",
    "- numpy http://www.numpy.org\n",
    "- процессы\n",
    "- Py_BEGIN_ALLOW_THREADS в C extension [документация](http://www.cmi.ac.in/~madhavan/courses/prog2-2015/docs/python-3.4.2-docs-html/c-api/init.html)"
   ]
  },
  {
   "cell_type": "markdown",
   "metadata": {},
   "source": [
    "## Процессы"
   ]
  },
  {
   "cell_type": "code",
   "execution_count": null,
   "metadata": {},
   "outputs": [],
   "source": [
    "%%time\n",
    "import multiprocessing\n",
    "\n",
    "# Выделяем пул процессов\n",
    "p = multiprocessing.Pool(processes=6)\n",
    "\n",
    "# Запускаем параллельную работу\n",
    "result = p.map(slow_fib, test_ns)\n",
    "print(result)"
   ]
  },
  {
   "cell_type": "code",
   "execution_count": null,
   "metadata": {},
   "outputs": [],
   "source": [
    "import multiprocessing as mp\n",
    "\n",
    "def foo(q):\n",
    "    q.put('hello')\n",
    "\n",
    "if __name__ == '__main__':\n",
    "    q = mp.Queue()\n",
    "    p = mp.Process(target=foo, args=(q,))\n",
    "    p.start()\n",
    "    print(q.get())\n",
    "    p.join()"
   ]
  },
  {
   "cell_type": "code",
   "execution_count": null,
   "metadata": {},
   "outputs": [],
   "source": [
    "# требует аккуратного проектирования (если бы не было timeout - зависло бы навсегда)\n",
    "q.get(timeout=2)"
   ]
  },
  {
   "cell_type": "markdown",
   "metadata": {},
   "source": [
    "## Модуль subprocess"
   ]
  },
  {
   "cell_type": "code",
   "execution_count": null,
   "metadata": {},
   "outputs": [],
   "source": [
    "import subprocess\n",
    "pr = subprocess.run('date')"
   ]
  },
  {
   "cell_type": "code",
   "execution_count": null,
   "metadata": {},
   "outputs": [],
   "source": [
    "pr.stdout"
   ]
  },
  {
   "cell_type": "code",
   "execution_count": null,
   "metadata": {},
   "outputs": [],
   "source": [
    "pr = subprocess.run('date', stdout=subprocess.PIPE)\n",
    "pr"
   ]
  },
  {
   "cell_type": "code",
   "execution_count": null,
   "metadata": {},
   "outputs": [],
   "source": [
    "print(pr.stdout.decode())"
   ]
  },
  {
   "cell_type": "code",
   "execution_count": null,
   "metadata": {},
   "outputs": [],
   "source": [
    "subprocess.run('ls -l', stdout=subprocess.PIPE)\n",
    "# subprocess.run(['ls', '-l'], stdout=subprocess.PIPE)"
   ]
  },
  {
   "cell_type": "code",
   "execution_count": null,
   "metadata": {},
   "outputs": [],
   "source": [
    "pr = subprocess.Popen('sort', stdout=subprocess.PIPE, stdin=subprocess.PIPE)\n",
    "for i in range(25):\n",
    "    pr.stdin.write(f'{i}\\n'.encode())\n",
    "out, err = pr.communicate()\n",
    "print(out.decode())\n",
    "pr.terminate()"
   ]
  },
  {
   "cell_type": "code",
   "execution_count": null,
   "metadata": {},
   "outputs": [],
   "source": [
    "pr.returncode"
   ]
  },
  {
   "cell_type": "markdown",
   "metadata": {},
   "source": [
    "https://amoffat.github.io/sh/ - более удобный способ"
   ]
  },
  {
   "cell_type": "markdown",
   "metadata": {},
   "source": [
    "# Работа с сетью\n",
    "\n",
    "https://ru.wikipedia.org/wiki/TCP/IP\n",
    "\n",
    "## Сокеты"
   ]
  },
  {
   "cell_type": "code",
   "execution_count": null,
   "metadata": {},
   "outputs": [],
   "source": [
    "import socket\n",
    "def listen():\n",
    "    connection = socket.socket(socket.AF_INET, socket.SOCK_STREAM)\n",
    "    connection.setsockopt(socket.SOL_SOCKET, socket.SO_REUSEADDR, 1)\n",
    "    connection.bind(('0.0.0.0', 5555))\n",
    "    connection.listen(10)\n",
    "    while True:\n",
    "        current_connection, address = connection.accept()\n",
    "        while True:\n",
    "            data = current_connection.recv(2048)\n",
    "\n",
    "            if data == b'quit\\n':\n",
    "                current_connection.shutdown(1)\n",
    "                current_connection.close()\n",
    "                break\n",
    "            elif data == b'stop\\n':\n",
    "                current_connection.shutdown(1)\n",
    "                current_connection.close()\n",
    "                return\n",
    "            elif data:\n",
    "                current_connection.send(data.upper())\n",
    "                \n",
    "listen()"
   ]
  },
  {
   "cell_type": "markdown",
   "metadata": {},
   "source": [
    "## HTTP под капотом"
   ]
  },
  {
   "cell_type": "code",
   "execution_count": null,
   "metadata": {},
   "outputs": [],
   "source": [
    "import socket\n",
    "import sys\n",
    "s = socket.socket(socket.AF_INET, socket.SOCK_STREAM)\n",
    "host = 'md5.jsontest.com'\n",
    "port = 80\n",
    "s.connect((host, port))\n",
    "s.send(b'GET /?text=test1 HTTP/1.1\\n')\n",
    "s.send(b'host: md5.jsontest.com\\n')\n",
    "s.send(b'\\n\\n')\n",
    "data = s.recv(1000000) \n",
    "print(data.decode())\n",
    "s.close()"
   ]
  },
  {
   "cell_type": "code",
   "execution_count": null,
   "metadata": {},
   "outputs": [],
   "source": [
    "import time\n",
    "from http.server import BaseHTTPRequestHandler, HTTPServer\n",
    "\n",
    "HOST_NAME = 'localhost'\n",
    "PORT_NUMBER = 8080\n",
    "\n",
    "class MyHandler(BaseHTTPRequestHandler):\n",
    "    def do_HEAD(s):\n",
    "        s.send_response(200)\n",
    "        s.send_header(\"Content-type\", \"text/html\")\n",
    "        s.end_headers()\n",
    "    def do_GET(s):\n",
    "        \"\"\"Respond to a GET request.\"\"\"\n",
    "        s.send_response(200)\n",
    "        s.send_header(\"Content-type\", \"text/html\")\n",
    "        s.end_headers()\n",
    "        s.wfile.write(b\"<html><head><title>Title goes here.</title></head>\")\n",
    "        s.wfile.write(b\"<body><p>This is a test.</p>\")\n",
    "\n",
    "        s.wfile.write(b\"<p>You accessed path: {}</p>\".format(s.path.encode()))\n",
    "        s.wfile.write(b\"</body></html>\")\n",
    "\n",
    "if __name__ == '__main__':\n",
    "    server_class = HTTPServer\n",
    "    httpd = server_class((HOST_NAME, PORT_NUMBER), MyHandler)\n",
    "    print(time.asctime(), f\"Server Starts - {HOST_NAME}:{PORT_NUMBER}\")\n",
    "    try:\n",
    "        httpd.serve_forever()\n",
    "    except KeyboardInterrupt:\n",
    "        pass\n",
    "    httpd.server_close()\n",
    "    print(time.asctime(), f\"Server Stops - {HOST_NAME}:{PORT_NUMBER}\")"
   ]
  },
  {
   "cell_type": "markdown",
   "metadata": {},
   "source": [
    "## HTTP с фреймворком\n",
    "\n",
    "Простой веб-сервер на Tornado\n",
    "http://www.tornadoweb.org/en/stable/web.html - Документация\n",
    "\n",
    "```python\n",
    "import tornado.ioloop\n",
    "import tornado.web\n",
    "\n",
    "class MainHandler(tornado.web.RequestHandler):\n",
    "    def get(self):\n",
    "        self.write(\"Hello, world\")\n",
    "\n",
    "def make_app():\n",
    "    return tornado.web.Application([\n",
    "        (r\"/\", MainHandler),\n",
    "    ])\n",
    "\n",
    "if __name__ == \"__main__\":\n",
    "    app = make_app()\n",
    "    app.listen(8080)\n",
    "    tornado.ioloop.IOLoop.current().start()\n",
    "```\n",
    "\n"
   ]
  },
  {
   "cell_type": "markdown",
   "metadata": {},
   "source": [
    "## Домашнее задание\n",
    "Сервер очередей заданий на базе TCP сокетов - task_queue"
   ]
  }
 ],
 "metadata": {
  "kernelspec": {
   "display_name": "Python 3",
   "language": "python",
   "name": "python3"
  },
  "language_info": {
   "codemirror_mode": {
    "name": "ipython",
    "version": 3
   },
   "file_extension": ".py",
   "mimetype": "text/x-python",
   "name": "python",
   "nbconvert_exporter": "python",
   "pygments_lexer": "ipython3",
   "version": "3.6.3"
  }
 },
 "nbformat": 4,
 "nbformat_minor": 2
}
