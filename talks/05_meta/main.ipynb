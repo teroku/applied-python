{
 "cells": [
  {
   "cell_type": "markdown",
   "metadata": {},
   "source": [
    "Python data model\n",
    "========"
   ]
  },
  {
   "cell_type": "code",
   "execution_count": null,
   "metadata": {
    "collapsed": true
   },
   "outputs": [],
   "source": [
    "class ListView:\n",
    "    def __init__(self, lst, start, stop):\n",
    "        self._lst = lst\n",
    "        self._start = start\n",
    "        self._stop = stop"
   ]
  },
  {
   "cell_type": "code",
   "execution_count": null,
   "metadata": {},
   "outputs": [],
   "source": [
    "ListView([0, 1, 2, 3, 4], 1, 3)"
   ]
  },
  {
   "cell_type": "markdown",
   "metadata": {},
   "source": [
    "`__len__`\n",
    "---"
   ]
  },
  {
   "cell_type": "code",
   "execution_count": null,
   "metadata": {
    "collapsed": true
   },
   "outputs": [],
   "source": [
    "class ListView:\n",
    "    def __init__(self, lst, start, stop):\n",
    "        self._lst = lst\n",
    "        self._start = start\n",
    "        self._stop = stop\n",
    "        \n",
    "    def __len__(self):\n",
    "        return self._stop - self._start"
   ]
  },
  {
   "cell_type": "code",
   "execution_count": null,
   "metadata": {},
   "outputs": [],
   "source": [
    "len(ListView([0, 1, 2, 3, 4], 1, 3))"
   ]
  },
  {
   "cell_type": "markdown",
   "metadata": {},
   "source": [
    "`__iter__`\n",
    "---"
   ]
  },
  {
   "cell_type": "code",
   "execution_count": null,
   "metadata": {},
   "outputs": [],
   "source": [
    "list(ListView([0, 1, 2, 3, 4], 1, 3))"
   ]
  },
  {
   "cell_type": "code",
   "execution_count": null,
   "metadata": {
    "collapsed": true
   },
   "outputs": [],
   "source": [
    "class ListView:\n",
    "    def __init__(self, lst, start, stop):\n",
    "        self._lst = lst\n",
    "        self._start = start\n",
    "        self._stop = stop\n",
    "        \n",
    "    def __len__(self):\n",
    "        return self._stop - self._start\n",
    "    \n",
    "    def __iter__(self):\n",
    "        for i in range(self._start, self._stop):\n",
    "            yield self._lst[i]"
   ]
  },
  {
   "cell_type": "code",
   "execution_count": null,
   "metadata": {},
   "outputs": [],
   "source": [
    "list(ListView([0, 1, 2, 3, 4], 1, 3))"
   ]
  },
  {
   "cell_type": "code",
   "execution_count": null,
   "metadata": {},
   "outputs": [],
   "source": [
    "itr = iter(ListView([0, 1, 2, 3, 4], 1, 3))\n",
    "itr"
   ]
  },
  {
   "cell_type": "code",
   "execution_count": null,
   "metadata": {},
   "outputs": [],
   "source": [
    "next(itr)"
   ]
  },
  {
   "cell_type": "markdown",
   "metadata": {},
   "source": [
    "`__getitem__`\n",
    "---"
   ]
  },
  {
   "cell_type": "code",
   "execution_count": null,
   "metadata": {
    "collapsed": true
   },
   "outputs": [],
   "source": [
    "class ListView:\n",
    "    def __init__(self, lst, start, stop):\n",
    "        self._lst = lst\n",
    "        self._start = start\n",
    "        self._stop = stop\n",
    "        \n",
    "    def __len__(self):\n",
    "        return self._stop - self._start\n",
    "    \n",
    "    def __getitem__(self, idx):\n",
    "        if self._start + idx < self._stop:\n",
    "            return self._lst[self._start + idx]\n",
    "        else:\n",
    "            raise IndexError(idx)"
   ]
  },
  {
   "cell_type": "code",
   "execution_count": null,
   "metadata": {},
   "outputs": [],
   "source": [
    "ListView([0, 1, 2, 3, 4], 1, 3)[1]"
   ]
  },
  {
   "cell_type": "code",
   "execution_count": null,
   "metadata": {},
   "outputs": [],
   "source": [
    "list(ListView([0, 1, 2, 3, 4], 1, 3))"
   ]
  },
  {
   "cell_type": "markdown",
   "metadata": {},
   "source": [
    "`__setitem__`\n",
    "---"
   ]
  },
  {
   "cell_type": "code",
   "execution_count": null,
   "metadata": {
    "collapsed": true
   },
   "outputs": [],
   "source": [
    "class ListView:\n",
    "    def __init__(self, lst, start, stop):\n",
    "        self._lst = lst\n",
    "        self._start = start\n",
    "        self._stop = stop\n",
    "        \n",
    "    def __len__(self):\n",
    "        return self._stop - self._start\n",
    "    \n",
    "    def __getitem__(self, idx):\n",
    "        if self._start + idx < self._stop:\n",
    "            return self._lst[self._start + idx]\n",
    "        else:\n",
    "            raise IndexError(idx)\n",
    "            \n",
    "    def __setitem__(self, idx, value):\n",
    "        if self._start + idx < self._stop:\n",
    "            self._lst[self._start + idx] = value\n",
    "        else:\n",
    "            raise IndexError(idx)"
   ]
  },
  {
   "cell_type": "code",
   "execution_count": null,
   "metadata": {},
   "outputs": [],
   "source": [
    "lst = [0, 1, 2, 3, 4]\n",
    "view = ListView(lst, 1, 3)\n",
    "list(view)"
   ]
  },
  {
   "cell_type": "code",
   "execution_count": null,
   "metadata": {
    "collapsed": true
   },
   "outputs": [],
   "source": [
    "view[1] = 7"
   ]
  },
  {
   "cell_type": "code",
   "execution_count": null,
   "metadata": {},
   "outputs": [],
   "source": [
    "list(view)"
   ]
  },
  {
   "cell_type": "code",
   "execution_count": null,
   "metadata": {},
   "outputs": [],
   "source": [
    "lst"
   ]
  },
  {
   "cell_type": "markdown",
   "metadata": {},
   "source": [
    "`__add__`\n",
    "---"
   ]
  },
  {
   "cell_type": "code",
   "execution_count": null,
   "metadata": {
    "collapsed": true
   },
   "outputs": [],
   "source": [
    "class ViewOffset:\n",
    "    def __init__(self, value):\n",
    "        self.value = value\n",
    "\n",
    "\n",
    "class ListView:\n",
    "    def __init__(self, lst, start, stop):\n",
    "        self._lst = lst\n",
    "        self._start = start\n",
    "        self._stop = stop\n",
    "        \n",
    "    def __len__(self):\n",
    "        return self._stop - self._start\n",
    "    \n",
    "    def __getitem__(self, idx):\n",
    "        if self._start + idx < self._stop:\n",
    "            return self._lst[self._start + idx]\n",
    "        else:\n",
    "            raise IndexError(idx)\n",
    "            \n",
    "    def __add__(self, offset):\n",
    "        if self._stop + offset.value > len(self._lst):\n",
    "            raise ValueError(offset)\n",
    "            \n",
    "        return type(self)(self._lst, self._start + offset.value, self._stop + offset.value)"
   ]
  },
  {
   "cell_type": "code",
   "execution_count": null,
   "metadata": {},
   "outputs": [],
   "source": [
    "lst = [0, 1, 2, 3, 4, 5]\n",
    "v = ListView(lst, 1, 3)\n",
    "list(v)"
   ]
  },
  {
   "cell_type": "code",
   "execution_count": null,
   "metadata": {},
   "outputs": [],
   "source": [
    "list(v + ViewOffset(2))"
   ]
  },
  {
   "cell_type": "code",
   "execution_count": null,
   "metadata": {},
   "outputs": [],
   "source": [
    "list(ViewOffset(2) + v)"
   ]
  },
  {
   "cell_type": "markdown",
   "metadata": {},
   "source": [
    "`__radd__`\n",
    "---"
   ]
  },
  {
   "cell_type": "code",
   "execution_count": null,
   "metadata": {
    "collapsed": true
   },
   "outputs": [],
   "source": [
    "class ViewOffset:\n",
    "    def __init__(self, value):\n",
    "        self.value = value\n",
    "\n",
    "\n",
    "class ListView:\n",
    "    def __init__(self, lst, start, stop):\n",
    "        self._lst = lst\n",
    "        self._start = start\n",
    "        self._stop = stop\n",
    "        \n",
    "    def __len__(self):\n",
    "        return self._stop - self._start\n",
    "    \n",
    "    def __getitem__(self, idx):\n",
    "        if self._start + idx < self._stop:\n",
    "            return self._lst[self._start + idx]\n",
    "        else:\n",
    "            raise IndexError(idx)\n",
    "            \n",
    "    def __add__(self, offset):\n",
    "        if self._stop + offset.value > len(self._lst):\n",
    "            raise ValueError(offset)\n",
    "            \n",
    "        return type(self)(self._lst, self._start + offset.value, self._stop + offset.value)\n",
    "    \n",
    "    def __radd__(self, offset):\n",
    "        return self + offset"
   ]
  },
  {
   "cell_type": "code",
   "execution_count": null,
   "metadata": {},
   "outputs": [],
   "source": [
    "lst = [0, 1, 2, 3, 4, 5]\n",
    "v = ListView(lst, 1, 3)\n",
    "list(ViewOffset(2) + v)"
   ]
  },
  {
   "cell_type": "code",
   "execution_count": null,
   "metadata": {},
   "outputs": [],
   "source": [
    "lst = [0, 1, 2, 3, 4, 5]\n",
    "v = ListView(lst, 1, 3)\n",
    "list(ViewOffset(1) + ViewOffset(1) + v)"
   ]
  },
  {
   "cell_type": "code",
   "execution_count": null,
   "metadata": {
    "collapsed": true
   },
   "outputs": [],
   "source": [
    "#    def __add__(self, other):\n",
    "#        if isinstance(other, type(self)):\n",
    "#            return type(self)(self.value + other.value)\n",
    "#        else:\n",
    "#            return NotImplemented"
   ]
  },
  {
   "cell_type": "markdown",
   "metadata": {},
   "source": [
    "`collections.abc`\n",
    "---"
   ]
  },
  {
   "cell_type": "code",
   "execution_count": null,
   "metadata": {},
   "outputs": [],
   "source": [
    "from collections import Sequence\n",
    "\n",
    "class ListView:\n",
    "    def __init__(self, lst, start, stop):\n",
    "        self._lst = lst\n",
    "        self._start = start\n",
    "        self._stop = stop\n",
    "        \n",
    "    #def __len__(self):\n",
    "    #    return self._stop - self._start\n",
    "    \n",
    "    def __getitem__(self, idx):\n",
    "        if self._start + idx < self._stop:\n",
    "            return self._lst[self._start + idx]\n",
    "        else:\n",
    "            raise IndexError(idx)"
   ]
  },
  {
   "cell_type": "code",
   "execution_count": null,
   "metadata": {},
   "outputs": [],
   "source": [
    "len(ListView([0, 1, 2, 3, 4], 1, 3))"
   ]
  },
  {
   "cell_type": "markdown",
   "metadata": {},
   "source": [
    "`__new__`\n",
    "---"
   ]
  },
  {
   "cell_type": "code",
   "execution_count": null,
   "metadata": {
    "collapsed": true
   },
   "outputs": [],
   "source": [
    "class Interval:\n",
    "    def __init__(self, begin, end):\n",
    "        self.begin = begin\n",
    "        self.end = end"
   ]
  },
  {
   "cell_type": "code",
   "execution_count": null,
   "metadata": {},
   "outputs": [],
   "source": [
    "i = Interval(1, 2)\n",
    "i.begin, i.end"
   ]
  },
  {
   "cell_type": "code",
   "execution_count": null,
   "metadata": {
    "collapsed": true
   },
   "outputs": [],
   "source": [
    "class Interval:\n",
    "    def __new__(cls, begin, end):\n",
    "        if begin > end:\n",
    "            return None\n",
    "        return super().__new__(cls)\n",
    "    \n",
    "    def __init__(self, begin, end):\n",
    "        self.begin = begin\n",
    "        self.end = end"
   ]
  },
  {
   "cell_type": "code",
   "execution_count": null,
   "metadata": {},
   "outputs": [],
   "source": [
    "print(Interval(2, 1))"
   ]
  },
  {
   "cell_type": "markdown",
   "metadata": {},
   "source": [
    "Декораторы\n",
    "==="
   ]
  },
  {
   "cell_type": "markdown",
   "metadata": {},
   "source": [
    "Декоратор функции\n",
    "---"
   ]
  },
  {
   "cell_type": "code",
   "execution_count": null,
   "metadata": {
    "collapsed": true
   },
   "outputs": [],
   "source": [
    "def sqr(x):\n",
    "    return x * x\n",
    "\n",
    "def half(x):\n",
    "    return x / 2"
   ]
  },
  {
   "cell_type": "code",
   "execution_count": null,
   "metadata": {},
   "outputs": [],
   "source": [
    "sqr(3)"
   ]
  },
  {
   "cell_type": "code",
   "execution_count": null,
   "metadata": {},
   "outputs": [],
   "source": [
    "half(5)"
   ]
  },
  {
   "cell_type": "code",
   "execution_count": null,
   "metadata": {
    "collapsed": true
   },
   "outputs": [],
   "source": [
    "_sqr_cache = {}\n",
    "def sqr(x):\n",
    "    if x not in _sqr_cache:\n",
    "        _sqr_cache[x] = x * x\n",
    "    return _sqr_cache[x]\n",
    "\n",
    "_half_cache = {}\n",
    "def half(x):\n",
    "    if x not in _half_cache:\n",
    "        _half_cache[x] = x // 2\n",
    "    return _half_cache[x]"
   ]
  },
  {
   "cell_type": "code",
   "execution_count": null,
   "metadata": {},
   "outputs": [],
   "source": [
    "sqr(5), half(20)"
   ]
  },
  {
   "cell_type": "code",
   "execution_count": null,
   "metadata": {},
   "outputs": [],
   "source": [
    "_sqr_cache, _half_cache"
   ]
  },
  {
   "cell_type": "code",
   "execution_count": null,
   "metadata": {},
   "outputs": [],
   "source": [
    "@cached\n",
    "def sqr(x):\n",
    "    print('calculating sqr')\n",
    "    return x * x\n",
    "\n",
    "@cached\n",
    "def half(x):\n",
    "    print('calculating half')\n",
    "    return x / 2\n",
    "\n"
   ]
  },
  {
   "cell_type": "code",
   "execution_count": null,
   "metadata": {},
   "outputs": [],
   "source": [
    "sqr(2), half(10)"
   ]
  },
  {
   "cell_type": "code",
   "execution_count": null,
   "metadata": {
    "collapsed": true
   },
   "outputs": [],
   "source": [
    "def cached(func):\n",
    "    def new_func(x):\n",
    "        return func(x)\n",
    "\n",
    "    return new_func"
   ]
  },
  {
   "cell_type": "code",
   "execution_count": null,
   "metadata": {
    "collapsed": true
   },
   "outputs": [],
   "source": [
    "def cached(func):\n",
    "    cache = {}\n",
    "\n",
    "    def new_func(x):\n",
    "        if x not in cache:\n",
    "            cache[x] = func(x)\n",
    "        return cache[x]\n",
    "\n",
    "    return new_func"
   ]
  },
  {
   "cell_type": "code",
   "execution_count": null,
   "metadata": {},
   "outputs": [],
   "source": [
    "def sqr(x):\n",
    "    print('calculating sqr')\n",
    "    return x * x\n",
    "\n",
    "sqr = cached(sqr)\n",
    "sqr(2), sqr(2)"
   ]
  },
  {
   "cell_type": "markdown",
   "metadata": {},
   "source": [
    "Декоратор функции с параметрами\n",
    "---"
   ]
  },
  {
   "cell_type": "code",
   "execution_count": null,
   "metadata": {},
   "outputs": [],
   "source": [
    "@cached(limit=3)\n",
    "def sqr(x):\n",
    "    print('calculating sqr')\n",
    "    return x * x    "
   ]
  },
  {
   "cell_type": "code",
   "execution_count": null,
   "metadata": {
    "collapsed": true
   },
   "outputs": [],
   "source": [
    "sqr = cached(limit=3)(sqr)"
   ]
  },
  {
   "cell_type": "code",
   "execution_count": null,
   "metadata": {
    "collapsed": true
   },
   "outputs": [],
   "source": [
    "def cached(limit):\n",
    "    def decorator(func):\n",
    "        pass\n",
    "    \n",
    "    return decorator"
   ]
  },
  {
   "cell_type": "code",
   "execution_count": null,
   "metadata": {
    "collapsed": true
   },
   "outputs": [],
   "source": [
    "def cached(limit):\n",
    "    def decorator(func):\n",
    "        def new_func(x):\n",
    "            return func(x)\n",
    "\n",
    "        return new_func\n",
    "    \n",
    "    return decorator"
   ]
  },
  {
   "cell_type": "code",
   "execution_count": null,
   "metadata": {},
   "outputs": [],
   "source": [
    "sqr(4)"
   ]
  },
  {
   "cell_type": "markdown",
   "metadata": {},
   "source": [
    "`@wraps`\n",
    "---"
   ]
  },
  {
   "cell_type": "code",
   "execution_count": null,
   "metadata": {},
   "outputs": [],
   "source": [
    "from functools import wraps\n",
    "\n",
    "def cached(func):\n",
    "    cache = {}\n",
    "\n",
    "    def new_func(x):\n",
    "        if x not in cache:\n",
    "            cache[x] = func(x)\n",
    "        return cache[x]\n",
    "\n",
    "    return new_func\n",
    "\n",
    "@cached\n",
    "def sqr(x):\n",
    "    \"\"\"Returns the square of X\"\"\"\n",
    "    return x * x"
   ]
  },
  {
   "cell_type": "code",
   "execution_count": null,
   "metadata": {},
   "outputs": [],
   "source": [
    "sqr.__name__, sqr.__doc__"
   ]
  },
  {
   "cell_type": "markdown",
   "metadata": {},
   "source": [
    "Декораторы класса\n",
    "==="
   ]
  },
  {
   "cell_type": "code",
   "execution_count": null,
   "metadata": {
    "collapsed": true
   },
   "outputs": [],
   "source": [
    "class Number:\n",
    "    def __init__(self, value):\n",
    "        self._value = value\n",
    "        \n",
    "    def sqr(self):\n",
    "        return type(self)(self._value * self._value)\n",
    "    \n",
    "    def half(self):\n",
    "        return type(self)(self._value // 2)\n",
    "        \n",
    "    def __repr__(self):\n",
    "        return 'Number({value})'.format(value=self._value)"
   ]
  },
  {
   "cell_type": "code",
   "execution_count": null,
   "metadata": {},
   "outputs": [],
   "source": [
    "Number(2)"
   ]
  },
  {
   "cell_type": "code",
   "execution_count": null,
   "metadata": {},
   "outputs": [],
   "source": [
    "Number(3).sqr()"
   ]
  },
  {
   "cell_type": "markdown",
   "metadata": {},
   "source": [
    "Вручную декорируем методы\n",
    "---"
   ]
  },
  {
   "cell_type": "code",
   "execution_count": null,
   "metadata": {},
   "outputs": [],
   "source": [
    "def cached(method): ###\n",
    "    method_name = method.__name__\n",
    "    \n",
    "    def new_method(self):\n",
    "        if method_name not in self.CACHE:\n",
    "            self.CACHE[method_name] = {}\n",
    "        cache = self.CACHE[method_name]\n",
    "\n",
    "        if self._value not in cache:\n",
    "            cache[self._value] = method(self)\n",
    "        return cache[self._value]\n",
    "\n",
    "    return new_method\n",
    "\n",
    "class Number:\n",
    "    CACHE = {} ###\n",
    "    \n",
    "    def __init__(self, value):\n",
    "        self._value = value\n",
    "    \n",
    "    @cached ###\n",
    "    def sqr(self):\n",
    "        return type(self)(self._value * self._value)\n",
    "    \n",
    "    @cached ###\n",
    "    def half(self):\n",
    "        return type(self)(self._value // 2)\n",
    "        \n",
    "    def __repr__(self):\n",
    "        return 'Number({value})'.format(value=self._value)"
   ]
  },
  {
   "cell_type": "code",
   "execution_count": null,
   "metadata": {},
   "outputs": [],
   "source": [
    "Number(5).half()"
   ]
  },
  {
   "cell_type": "code",
   "execution_count": null,
   "metadata": {},
   "outputs": [],
   "source": [
    "Number(4).CACHE"
   ]
  },
  {
   "cell_type": "markdown",
   "metadata": {},
   "source": [
    "Автоматически декорируем известные методы\n",
    "---"
   ]
  },
  {
   "cell_type": "code",
   "execution_count": null,
   "metadata": {
    "collapsed": true
   },
   "outputs": [],
   "source": [
    "def cached(method):\n",
    "    method_name = method.__name__\n",
    "    \n",
    "    def new_method(self):\n",
    "        if method_name not in self.CACHE:\n",
    "            self.CACHE[method_name] = {}\n",
    "        cache = self.CACHE[method_name]\n",
    "\n",
    "        if self._value not in cache:\n",
    "            cache[self._value] = method(self)\n",
    "        return cache[self._value]\n",
    "\n",
    "    return new_method\n",
    "\n",
    "def cache_all(klass): ###\n",
    "    for attr_name in ['sqr', 'half']:\n",
    "        attr = getattr(klass, attr_name)\n",
    "        setattr(klass, attr_name, cached(attr))\n",
    "    return klass\n",
    "\n",
    "@cache_all ###\n",
    "class Number:\n",
    "    CACHE = {}\n",
    "    \n",
    "    def __init__(self, value):\n",
    "        self._value = value\n",
    "    \n",
    "    ###\n",
    "    def sqr(self):\n",
    "        return type(self)(self._value * self._value)\n",
    "    \n",
    "    ###\n",
    "    def half(self):\n",
    "        return type(self)(self._value // 2)\n",
    "        \n",
    "    def __repr__(self):\n",
    "        return 'Number({value})'.format(value=self._value)"
   ]
  },
  {
   "cell_type": "code",
   "execution_count": null,
   "metadata": {},
   "outputs": [],
   "source": [
    "Number(5).half()"
   ]
  },
  {
   "cell_type": "code",
   "execution_count": null,
   "metadata": {},
   "outputs": [],
   "source": [
    "Number.CACHE"
   ]
  },
  {
   "cell_type": "markdown",
   "metadata": {},
   "source": [
    "Автоматически декорируем помеченные методы\n",
    "---"
   ]
  },
  {
   "cell_type": "code",
   "execution_count": null,
   "metadata": {},
   "outputs": [],
   "source": [
    "def cached(method): ###\n",
    "    method._cached = True\n",
    "    return method\n",
    "\n",
    "def _cached(method): ###\n",
    "    method_name = method.__name__\n",
    "    \n",
    "    def new_method(self):\n",
    "        if method_name not in self.CACHE:\n",
    "            self.CACHE[method_name] = {}\n",
    "        cache = self.CACHE[method_name]\n",
    "\n",
    "        if self._value not in cache:\n",
    "            cache[self._value] = method(self)\n",
    "        return cache[self._value]\n",
    "\n",
    "    return new_method\n",
    "\n",
    "def cached_methods(klass):\n",
    "    for attr_name in klass.__dict__:\n",
    "        attr = getattr(klass, attr_name)\n",
    "        if hasattr(attr, '_cached') and attr._cached:\n",
    "            setattr(klass, attr_name, _cached(attr))\n",
    "    \n",
    "    return klass\n",
    "\n",
    "@cached_methods ###\n",
    "class Number:\n",
    "    CACHE = {}\n",
    "    \n",
    "    def __init__(self, value):\n",
    "        self._value = value\n",
    "    \n",
    "    @cached ###\n",
    "    def sqr(self):\n",
    "        return type(self)(self._value * self._value)\n",
    "    \n",
    "    @cached ###\n",
    "    def half(self):\n",
    "        return type(self)(self._value // 2)\n",
    "        \n",
    "    def __repr__(self):\n",
    "        return 'Number({value})'.format(value=self._value)"
   ]
  },
  {
   "cell_type": "code",
   "execution_count": null,
   "metadata": {},
   "outputs": [],
   "source": [
    "Number(5).half()"
   ]
  },
  {
   "cell_type": "code",
   "execution_count": null,
   "metadata": {},
   "outputs": [],
   "source": [
    "Number.CACHE"
   ]
  },
  {
   "cell_type": "markdown",
   "metadata": {},
   "source": [
    "Параметризуем имя кеша\n",
    "---"
   ]
  },
  {
   "cell_type": "markdown",
   "metadata": {},
   "source": [
    "<img width=500 src=\"fotr.ee.elrond.jpg\">"
   ]
  },
  {
   "cell_type": "code",
   "execution_count": null,
   "metadata": {
    "collapsed": true
   },
   "outputs": [],
   "source": [
    "def cached(method):\n",
    "    method._cached = True\n",
    "    return method\n",
    "\n",
    "def _cached(method, cache_name): ###\n",
    "    method_name = method.__name__\n",
    "\n",
    "    def new_method(self):\n",
    "        global_cache = getattr(self, cache_name) ###\n",
    "        if method_name not in global_cache:\n",
    "            global_cache[method_name] = {}\n",
    "        cache = global_cache[method_name]\n",
    "\n",
    "        if self._value not in cache:\n",
    "            cache[self._value] = method(self)\n",
    "        return cache[self._value]\n",
    "\n",
    "    return new_method\n",
    "\n",
    "\n",
    "def cached_methods(cache_name):\n",
    "    def decorator(klass):\n",
    "        setattr(klass, cache_name, {}) ###\n",
    "        \n",
    "        for attr_name in klass.__dict__:\n",
    "            attr = getattr(klass, attr_name)\n",
    "            if hasattr(attr, '_cached') and attr._cached:\n",
    "                setattr(klass, attr_name, _cached(attr, cache_name)) ###\n",
    "    \n",
    "        return klass\n",
    "    return decorator\n",
    "\n",
    "@cached_methods('MY_CACHE') ###\n",
    "class Number:\n",
    "    ###\n",
    "    \n",
    "    def __init__(self, value):\n",
    "        self._value = value\n",
    "    \n",
    "    @cached\n",
    "    def sqr(self):\n",
    "        return type(self)(self._value * self._value)\n",
    "    \n",
    "    @cached\n",
    "    def half(self):\n",
    "        return type(self)(self._value // 2)\n",
    "        \n",
    "    def __repr__(self):\n",
    "        return 'Number({value})'.format(value=self._value)"
   ]
  },
  {
   "cell_type": "code",
   "execution_count": null,
   "metadata": {},
   "outputs": [],
   "source": [
    "Number(5).half()"
   ]
  },
  {
   "cell_type": "code",
   "execution_count": null,
   "metadata": {},
   "outputs": [],
   "source": [
    "Number.MY_CACHE"
   ]
  },
  {
   "cell_type": "markdown",
   "metadata": {},
   "source": []
  },
  {
   "cell_type": "markdown",
   "metadata": {},
   "source": [
    "Метаклассы\n",
    "==="
   ]
  },
  {
   "cell_type": "code",
   "execution_count": null,
   "metadata": {},
   "outputs": [],
   "source": [
    "type(2)"
   ]
  },
  {
   "cell_type": "code",
   "execution_count": null,
   "metadata": {},
   "outputs": [],
   "source": [
    "class MyList(list):\n",
    "    def get_length(self):\n",
    "        return len(self)"
   ]
  },
  {
   "cell_type": "code",
   "execution_count": null,
   "metadata": {},
   "outputs": [],
   "source": [
    "lst = MyList()\n",
    "lst.append(1)\n",
    "lst.append(2)\n",
    "lst[0] = 3\n",
    "lst, lst.get_length()"
   ]
  },
  {
   "cell_type": "code",
   "execution_count": null,
   "metadata": {},
   "outputs": [],
   "source": [
    "MyList = type(\n",
    "    'MyList',\n",
    "    (list,),\n",
    "    dict(get_length=lambda self: len(self)),\n",
    ")"
   ]
  },
  {
   "cell_type": "code",
   "execution_count": null,
   "metadata": {
    "collapsed": true
   },
   "outputs": [],
   "source": [
    "class MyMeta(type):\n",
    "    def __init__(cls, name, bases, attrs):\n",
    "        print('Creating {}'.format(cls))\n",
    "        super().__init__(name, bases, attrs)"
   ]
  },
  {
   "cell_type": "code",
   "execution_count": null,
   "metadata": {},
   "outputs": [],
   "source": [
    "class MyList(list, metaclass=MyMeta):\n",
    "    def get_length(self):\n",
    "        return len(self)"
   ]
  },
  {
   "cell_type": "code",
   "execution_count": null,
   "metadata": {
    "collapsed": true
   },
   "outputs": [],
   "source": [
    "class AllPrivateMeta(type):\n",
    "    def __new__(meta, name, bases, attrs):\n",
    "        new_attrs = {}\n",
    "        for attr_name in attrs:\n",
    "            new_name = attr_name if attr_name.startswith('_') else '_' + attr_name\n",
    "            new_attrs[new_name] = attrs[attr_name]\n",
    "        \n",
    "        return super().__new__(meta, name, bases, new_attrs)"
   ]
  },
  {
   "cell_type": "code",
   "execution_count": null,
   "metadata": {},
   "outputs": [],
   "source": [
    "class MyList(list, metaclass=AllPrivateMeta):\n",
    "    def get_length(self):\n",
    "        return len(self)"
   ]
  },
  {
   "cell_type": "code",
   "execution_count": null,
   "metadata": {},
   "outputs": [],
   "source": [
    "lst = MyList()\n",
    "lst._get_length()"
   ]
  },
  {
   "cell_type": "markdown",
   "metadata": {},
   "source": [
    "Дескрипторы\n",
    "==="
   ]
  },
  {
   "cell_type": "code",
   "execution_count": null,
   "metadata": {},
   "outputs": [],
   "source": [
    "class Data:\n",
    "    x = Json()"
   ]
  },
  {
   "cell_type": "code",
   "execution_count": null,
   "metadata": {},
   "outputs": [],
   "source": [
    "d = Data()\n",
    "type(d.x)"
   ]
  },
  {
   "cell_type": "code",
   "execution_count": null,
   "metadata": {
    "collapsed": true
   },
   "outputs": [],
   "source": [
    "class Json:\n",
    "    #\n",
    "    #\n",
    "    #\n",
    "    #\n",
    "    #\n",
    "    \n",
    "    \n",
    "    \n",
    "    \n",
    "    def __set__(self, instance, value):\n",
    "        setattr(instance, '_' + self._name, value)\n",
    "    \n",
    "    def __get__(self, instance, owner):\n",
    "        if not hasattr(instance, '_' + self._name):\n",
    "            return None\n",
    "        data = getattr(instance, '_' + self._name)\n",
    "        if isinstance(data, str):\n",
    "            import json\n",
    "            return json.loads(data)\n",
    "    \n",
    "    def __set_name__(self, owner, name):\n",
    "        print(owner, name)\n",
    "        self._name = name"
   ]
  },
  {
   "cell_type": "code",
   "execution_count": null,
   "metadata": {},
   "outputs": [],
   "source": [
    "d.x = '[1,2,{}]'\n",
    "d.x"
   ]
  },
  {
   "cell_type": "code",
   "execution_count": null,
   "metadata": {},
   "outputs": [],
   "source": [
    "class Person(models.Model):\n",
    "    first_name = models.CharField(max_length=30)\n",
    "    last_name = models.CharField(max_length=30)"
   ]
  },
  {
   "cell_type": "code",
   "execution_count": null,
   "metadata": {
    "collapsed": true
   },
   "outputs": [],
   "source": []
  }
 ],
 "metadata": {
  "kernelspec": {
   "display_name": "Python 3",
   "language": "python",
   "name": "python3"
  },
  "language_info": {
   "codemirror_mode": {
    "name": "ipython",
    "version": 3
   },
   "file_extension": ".py",
   "mimetype": "text/x-python",
   "name": "python",
   "nbconvert_exporter": "python",
   "pygments_lexer": "ipython3",
   "version": "3.6.3"
  }
 },
 "nbformat": 4,
 "nbformat_minor": 2
}
